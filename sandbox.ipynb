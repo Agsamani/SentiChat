{
 "cells": [
  {
   "cell_type": "code",
   "execution_count": 19,
   "id": "250eb73f",
   "metadata": {},
   "outputs": [],
   "source": [
    "import pandas as pd\n",
    "from transformers import pipeline\n",
    "import matplotlib.pyplot as plt\n",
    "import seaborn as sns"
   ]
  },
  {
   "cell_type": "code",
   "execution_count": 20,
   "id": "880e6327",
   "metadata": {},
   "outputs": [],
   "source": [
    "CSV_FILE_PATH = 'chat.csv'\n",
    "DATE_TIME_COLUMN = 'datetime'\n",
    "PERSON_COLUMN = 'person'\n",
    "MESSAGE_COLUMN = 'message'"
   ]
  },
  {
   "cell_type": "code",
   "execution_count": 21,
   "id": "a7b32816",
   "metadata": {},
   "outputs": [
    {
     "name": "stdout",
     "output_type": "stream",
     "text": [
      "             datetime  person                                   message\n",
      "0 2025-05-30 10:01:23       0                      Hey! How’s it going?\n",
      "1 2025-05-30 10:01:45       0                                You there?\n",
      "2 2025-05-30 10:02:10       1  Hey! I'm good, just busy with work. You?\n",
      "3 2025-05-30 10:02:45       0      Same here. Deadlines are killing me.\n",
      "4 2025-05-30 10:03:01       0               Can’t wait for the weekend.\n"
     ]
    }
   ],
   "source": [
    "df = pd.read_csv(CSV_FILE_PATH)\n",
    "\n",
    "df[DATE_TIME_COLUMN] = pd.to_datetime(df[DATE_TIME_COLUMN])\n",
    "print(df.head())"
   ]
  },
  {
   "cell_type": "code",
   "execution_count": 22,
   "id": "9cbcae6e",
   "metadata": {},
   "outputs": [],
   "source": [
    "unique_persons = df[PERSON_COLUMN].unique()\n",
    "person1, person2 = unique_persons"
   ]
  },
  {
   "cell_type": "code",
   "execution_count": 23,
   "id": "7ab71cb4",
   "metadata": {},
   "outputs": [],
   "source": [
    "# TODO: use lighter model\n",
    "sentiment_pipeline = pipeline(\"sentiment-analysis\", model=\"distilbert-base-uncased-finetuned-sst-2-english\", framework=\"pt\")"
   ]
  },
  {
   "cell_type": "code",
   "execution_count": 24,
   "id": "c96aa91c",
   "metadata": {},
   "outputs": [],
   "source": [
    "\n",
    "# Pass a list of all messages to the pipeline.\n",
    "# The pipeline is optimized to handle batches of text efficiently.\n",
    "sentiments = sentiment_pipeline(df['message'].tolist())\n",
    "\n",
    "# Extract labels and scores from the pipeline's output\n",
    "df['sentiment_label'] = [s['label'] for s in sentiments]\n",
    "df['sentiment_score'] = [s['score'] for s in sentiments]\n",
    "\n",
    "# Map sentiment labels to numerical values (POSITIVE: 1, NEUTRAL: 0, NEGATIVE: -1)\n",
    "# Ensure this mapping matches the labels produced by your chosen model (e.g., 'POSITIVE', 'NEGATIVE' for SST-2)\n",
    "sentiment_mapping = {'POSITIVE': 1, 'NEUTRAL': 0, 'NEGATIVE': -1}\n",
    "# You might need to adjust this mapping if your model uses different labels (e.g., '2 stars', '3 stars', '4 stars')\n",
    "# Or if it only outputs 'NEGATIVE' and 'POSITIVE'. Handle missing labels with .fillna(0)\n",
    "df['sentiment_value'] = df['sentiment_label'].map(sentiment_mapping).fillna(0)\n"
   ]
  },
  {
   "cell_type": "code",
   "execution_count": 25,
   "id": "7be9d179",
   "metadata": {},
   "outputs": [
    {
     "data": {
      "text/html": [
       "<div>\n",
       "<style scoped>\n",
       "    .dataframe tbody tr th:only-of-type {\n",
       "        vertical-align: middle;\n",
       "    }\n",
       "\n",
       "    .dataframe tbody tr th {\n",
       "        vertical-align: top;\n",
       "    }\n",
       "\n",
       "    .dataframe thead th {\n",
       "        text-align: right;\n",
       "    }\n",
       "</style>\n",
       "<table border=\"1\" class=\"dataframe\">\n",
       "  <thead>\n",
       "    <tr style=\"text-align: right;\">\n",
       "      <th></th>\n",
       "      <th>datetime</th>\n",
       "      <th>person</th>\n",
       "      <th>message</th>\n",
       "      <th>sentiment_label</th>\n",
       "      <th>sentiment_score</th>\n",
       "      <th>sentiment_value</th>\n",
       "    </tr>\n",
       "  </thead>\n",
       "  <tbody>\n",
       "    <tr>\n",
       "      <th>0</th>\n",
       "      <td>2025-05-30 10:01:23</td>\n",
       "      <td>0</td>\n",
       "      <td>Hey! How’s it going?</td>\n",
       "      <td>POSITIVE</td>\n",
       "      <td>0.996429</td>\n",
       "      <td>1</td>\n",
       "    </tr>\n",
       "    <tr>\n",
       "      <th>1</th>\n",
       "      <td>2025-05-30 10:01:45</td>\n",
       "      <td>0</td>\n",
       "      <td>You there?</td>\n",
       "      <td>POSITIVE</td>\n",
       "      <td>0.994265</td>\n",
       "      <td>1</td>\n",
       "    </tr>\n",
       "    <tr>\n",
       "      <th>2</th>\n",
       "      <td>2025-05-30 10:02:10</td>\n",
       "      <td>1</td>\n",
       "      <td>Hey! I'm good, just busy with work. You?</td>\n",
       "      <td>POSITIVE</td>\n",
       "      <td>0.999327</td>\n",
       "      <td>1</td>\n",
       "    </tr>\n",
       "    <tr>\n",
       "      <th>3</th>\n",
       "      <td>2025-05-30 10:02:45</td>\n",
       "      <td>0</td>\n",
       "      <td>Same here. Deadlines are killing me.</td>\n",
       "      <td>NEGATIVE</td>\n",
       "      <td>0.999667</td>\n",
       "      <td>-1</td>\n",
       "    </tr>\n",
       "    <tr>\n",
       "      <th>4</th>\n",
       "      <td>2025-05-30 10:03:01</td>\n",
       "      <td>0</td>\n",
       "      <td>Can’t wait for the weekend.</td>\n",
       "      <td>POSITIVE</td>\n",
       "      <td>0.998262</td>\n",
       "      <td>1</td>\n",
       "    </tr>\n",
       "  </tbody>\n",
       "</table>\n",
       "</div>"
      ],
      "text/plain": [
       "             datetime  person                                   message  \\\n",
       "0 2025-05-30 10:01:23       0                      Hey! How’s it going?   \n",
       "1 2025-05-30 10:01:45       0                                You there?   \n",
       "2 2025-05-30 10:02:10       1  Hey! I'm good, just busy with work. You?   \n",
       "3 2025-05-30 10:02:45       0      Same here. Deadlines are killing me.   \n",
       "4 2025-05-30 10:03:01       0               Can’t wait for the weekend.   \n",
       "\n",
       "  sentiment_label  sentiment_score  sentiment_value  \n",
       "0        POSITIVE         0.996429                1  \n",
       "1        POSITIVE         0.994265                1  \n",
       "2        POSITIVE         0.999327                1  \n",
       "3        NEGATIVE         0.999667               -1  \n",
       "4        POSITIVE         0.998262                1  "
      ]
     },
     "execution_count": 25,
     "metadata": {},
     "output_type": "execute_result"
    }
   ],
   "source": [
    "df.head()"
   ]
  },
  {
   "cell_type": "code",
   "execution_count": null,
   "id": "cb191a27",
   "metadata": {},
   "outputs": [],
   "source": []
  }
 ],
 "metadata": {
  "kernelspec": {
   "display_name": "Python 3",
   "language": "python",
   "name": "python3"
  },
  "language_info": {
   "codemirror_mode": {
    "name": "ipython",
    "version": 3
   },
   "file_extension": ".py",
   "mimetype": "text/x-python",
   "name": "python",
   "nbconvert_exporter": "python",
   "pygments_lexer": "ipython3",
   "version": "3.10.4"
  }
 },
 "nbformat": 4,
 "nbformat_minor": 5
}
